{
 "cells": [
  {
   "cell_type": "markdown",
   "metadata": {},
   "source": [
    "# Loading necessary Documents"
   ]
  },
  {
   "cell_type": "code",
   "execution_count": 1,
   "metadata": {},
   "outputs": [],
   "source": [
    "import cv2 \n",
    "import os \n",
    "import numpy as np\n",
    "from matplotlib import pyplot as plt\n",
    "#import xlwt \n",
    "#from xlwt import Workbook  \n",
    "import statistics"
   ]
  },
  {
   "cell_type": "markdown",
   "metadata": {},
   "source": [
    "# Image Alignment"
   ]
  },
  {
   "cell_type": "markdown",
   "metadata": {},
   "source": [
    "# Extracting The Reference Image"
   ]
  },
  {
   "cell_type": "code",
   "execution_count": 2,
   "metadata": {},
   "outputs": [
    {
     "name": "stdout",
     "output_type": "stream",
     "text": [
      "First image found: image0000780.jpg\n"
     ]
    }
   ],
   "source": [
    "# Get the current working directory\n",
    "current_dir = os.getcwd()\n",
    "\n",
    "# Move one directory up from the current directory\n",
    "parent_dir = os.path.dirname(current_dir)\n",
    "\n",
    "# Now create the path to the folder with Images for Alignmnet\n",
    "folder = os.path.join(parent_dir, 'Image_Dataset/01_Alignment')\n",
    "\n",
    "# Get a sorted list of all image files in the folder\n",
    "image_files = [filename for filename in os.listdir(folder) if filename.endswith(('.jpg', '.jpeg', '.png'))]\n",
    "\n",
    "# If an image is found, process it\n",
    "imgRef = os.path.join(folder, image_files[0])\n",
    "imgRef = cv2.imread(imgRef)  \n",
    "imgRef_grey = cv2.cvtColor(imgRef, cv2.COLOR_BGR2GRAY) \n",
    "sz = imgRef_grey.shape\n",
    "print(\"First image found:\", image_files[0])"
   ]
  },
  {
   "cell_type": "markdown",
   "metadata": {},
   "source": [
    "# Aligning Target Images based on Reference Image"
   ]
  },
  {
   "cell_type": "code",
   "execution_count": 19,
   "metadata": {},
   "outputs": [
    {
     "ename": "KeyboardInterrupt",
     "evalue": "",
     "output_type": "error",
     "traceback": [
      "\u001b[1;31m---------------------------------------------------------------------------\u001b[0m",
      "\u001b[1;31mKeyboardInterrupt\u001b[0m                         Traceback (most recent call last)",
      "\u001b[1;32md:\\02-Project\\01-Wear Detection\\09-PROKI\\JupyterNotebook\\ProKI.ipynb Cell 7\u001b[0m line \u001b[0;36m2\n\u001b[0;32m     <a href='vscode-notebook-cell:/d%3A/02-Project/01-Wear%20Detection/09-PROKI/JupyterNotebook/ProKI.ipynb#W6sZmlsZQ%3D%3D?line=20'>21</a>\u001b[0m \u001b[39m# Convert to grayscale. \u001b[39;00m\n\u001b[0;32m     <a href='vscode-notebook-cell:/d%3A/02-Project/01-Wear%20Detection/09-PROKI/JupyterNotebook/ProKI.ipynb#W6sZmlsZQ%3D%3D?line=21'>22</a>\u001b[0m imgTest_grey \u001b[39m=\u001b[39m cv2\u001b[39m.\u001b[39mcvtColor(imgTest, cv2\u001b[39m.\u001b[39mCOLOR_BGR2GRAY) \n\u001b[1;32m---> <a href='vscode-notebook-cell:/d%3A/02-Project/01-Wear%20Detection/09-PROKI/JupyterNotebook/ProKI.ipynb#W6sZmlsZQ%3D%3D?line=22'>23</a>\u001b[0m (cc, warp_matrix) \u001b[39m=\u001b[39m cv2\u001b[39m.\u001b[39;49mfindTransformECC (imgRef_grey,imgTest_grey,warp_matrix, warp_mode, criteria) \n\u001b[0;32m     <a href='vscode-notebook-cell:/d%3A/02-Project/01-Wear%20Detection/09-PROKI/JupyterNotebook/ProKI.ipynb#W6sZmlsZQ%3D%3D?line=23'>24</a>\u001b[0m aligned_img \u001b[39m=\u001b[39m cv2\u001b[39m.\u001b[39mwarpAffine(imgTest, warp_matrix, (sz[\u001b[39m1\u001b[39m],sz[\u001b[39m0\u001b[39m]), flags\u001b[39m=\u001b[39mcv2\u001b[39m.\u001b[39mINTER_LINEAR \u001b[39m+\u001b[39m cv2\u001b[39m.\u001b[39mWARP_INVERSE_MAP) \n\u001b[0;32m     <a href='vscode-notebook-cell:/d%3A/02-Project/01-Wear%20Detection/09-PROKI/JupyterNotebook/ProKI.ipynb#W6sZmlsZQ%3D%3D?line=24'>25</a>\u001b[0m \u001b[39m# Output filename with \"_Aligned\" added\u001b[39;00m\n",
      "\u001b[1;31mKeyboardInterrupt\u001b[0m: "
     ]
    }
   ],
   "source": [
    "# Define the motion model \n",
    "warp_mode = cv2.MOTION_TRANSLATION \n",
    "# Define 2x3 matrices and initialize the matrix to identity \n",
    "warp_matrix = np.eye(2, 3, dtype=np.float32) \n",
    "# Specify the number of iterations. \n",
    "number_of_iterations = 10000; \n",
    "# Specify the threshold of the increment \n",
    "# in the correlation coefficient between two iterations \n",
    "termination_eps = 1e-10; \n",
    "# Define termination criteria \n",
    "criteria = (cv2.TERM_CRITERIA_EPS | cv2.TERM_CRITERIA_COUNT, number_of_iterations,  termination_eps) \n",
    "\n",
    "# Create a new folder for the output path\n",
    "output_folder = os.path.join(parent_dir, 'Image_Dataset/01-Alignment_Output')\n",
    "os.makedirs(output_folder)\n",
    "\n",
    "   \n",
    "for TargetImages in image_files[1:]:\n",
    "    # Read Image to be aligned\n",
    "    imgTest = os.path.join(folder, TargetImages)  \n",
    "    imgTest = cv2.imread(imgTest) \n",
    "    # Convert to grayscale. \n",
    "    imgTest_grey = cv2.cvtColor(imgTest, cv2.COLOR_BGR2GRAY) \n",
    "    (cc, warp_matrix) = cv2.findTransformECC (imgRef_grey,imgTest_grey,warp_matrix, warp_mode, criteria) \n",
    "    aligned_img = cv2.warpAffine(imgTest, warp_matrix, (sz[1],sz[0]), flags=cv2.INTER_LINEAR + cv2.WARP_INVERSE_MAP) \n",
    "    # Output filename with \"_Aligned\" added\n",
    "    output_filename = os.path.splitext(TargetImages)[0] + \"_Aligned.jpg\"\n",
    "    # Save the Aligned image to the output directory\n",
    "    output_path = os.path.join(output_folder, output_filename)\n",
    "    cv2.imwrite(output_path, aligned_img)"
   ]
  },
  {
   "cell_type": "code",
   "execution_count": 14,
   "metadata": {},
   "outputs": [],
   "source": [
    "output_folder = os.path.join(parent_dir, 'TEST')"
   ]
  },
  {
   "cell_type": "code",
   "execution_count": 6,
   "metadata": {},
   "outputs": [
    {
     "data": {
      "text/plain": [
       "'d:\\\\02-Project\\\\01-Wear Detection\\\\09-PROKI'"
      ]
     },
     "execution_count": 6,
     "metadata": {},
     "output_type": "execute_result"
    }
   ],
   "source": [
    "parent_dir"
   ]
  },
  {
   "cell_type": "code",
   "execution_count": 15,
   "metadata": {},
   "outputs": [
    {
     "data": {
      "text/plain": [
       "'d:\\\\02-Project\\\\01-Wear Detection\\\\09-PROKI\\\\TEST'"
      ]
     },
     "execution_count": 15,
     "metadata": {},
     "output_type": "execute_result"
    }
   ],
   "source": [
    "output_folder"
   ]
  },
  {
   "cell_type": "code",
   "execution_count": 16,
   "metadata": {},
   "outputs": [],
   "source": [
    "os.makedirs(output_folder)"
   ]
  },
  {
   "cell_type": "code",
   "execution_count": 5,
   "metadata": {},
   "outputs": [
    {
     "name": "stdout",
     "output_type": "stream",
     "text": [
      "First image found: image0000780.jpg\n"
     ]
    }
   ],
   "source": [
    "import os\n",
    "\n",
    "# Get the current working directory\n",
    "current_dir = os.getcwd()\n",
    "\n",
    "# Move one directory up from the current directory\n",
    "parent_dir = os.path.dirname(current_dir)\n",
    "\n",
    "# Now create the path to the folder with Images for Alignment\n",
    "folder = os.path.join(parent_dir, 'TEST')\n",
    "\n",
    "# Use a generator to get the first image in the folder\n",
    "first_image = next((filename for filename in os.listdir(folder) \n",
    "                    if filename.endswith(('.jpg', '.jpeg', '.png'))), None)\n",
    "\n",
    "# If an image is found, process it\n",
    "if first_image:\n",
    "    img_path = os.path.join(folder, first_image)\n",
    "    print(\"First image found:\", first_image)\n"
   ]
  }
 ],
 "metadata": {
  "kernelspec": {
   "display_name": "Wear",
   "language": "python",
   "name": "python3"
  },
  "language_info": {
   "codemirror_mode": {
    "name": "ipython",
    "version": 3
   },
   "file_extension": ".py",
   "mimetype": "text/x-python",
   "name": "python",
   "nbconvert_exporter": "python",
   "pygments_lexer": "ipython3",
   "version": "3.10.13"
  },
  "orig_nbformat": 4
 },
 "nbformat": 4,
 "nbformat_minor": 2
}
